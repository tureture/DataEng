{
 "cells": [
  {
   "cell_type": "code",
   "execution_count": 1,
   "id": "fe955825",
   "metadata": {},
   "outputs": [
    {
     "name": "stderr",
     "output_type": "stream",
     "text": [
      "WARNING: An illegal reflective access operation has occurred\n",
      "WARNING: Illegal reflective access by org.apache.spark.unsafe.Platform (file:/home/ubuntu/.local/lib/python3.10/site-packages/pyspark/jars/spark-unsafe_2.12-3.2.3.jar) to constructor java.nio.DirectByteBuffer(long,int)\n",
      "WARNING: Please consider reporting this to the maintainers of org.apache.spark.unsafe.Platform\n",
      "WARNING: Use --illegal-access=warn to enable warnings of further illegal reflective access operations\n",
      "WARNING: All illegal access operations will be denied in a future release\n",
      "Using Spark's default log4j profile: org/apache/spark/log4j-defaults.properties\n",
      "Setting default log level to \"WARN\".\n",
      "To adjust logging level use sc.setLogLevel(newLevel). For SparkR, use setLogLevel(newLevel).\n",
      "23/02/23 15:41:19 WARN NativeCodeLoader: Unable to load native-hadoop library for your platform... using builtin-java classes where applicable\n"
     ]
    }
   ],
   "source": [
    "# Assignment 3 Data Engineering 5hp\n",
    "# By Ture Hassler\n",
    "# Initialize spark session and spark context\n",
    "\n",
    "from pyspark.sql import SparkSession\n",
    "\n",
    "\n",
    "ss = SparkSession \\\n",
    "    .builder \\\n",
    "    .master(\"spark://192.168.2.122:7077\") \\\n",
    "    .appName(\"turehassler_partA\") \\\n",
    "    .config(\"spark.dynamicAllocation.enabled\", True)\\\n",
    "    .config(\"spark.dynamicAllocation.shuffleTracking.enabled\",True)\\\n",
    "    .config(\"spark.shuffle.service.enabled\", True)\\\n",
    "    .config(\"spark.dynamicAllocation.executorIdleTimeout\",\"30s\")\\\n",
    "    .config(\"spark.cores.max\", 16)\\\n",
    "    .getOrCreate()\n",
    "\n",
    "sc = ss.sparkContext"
   ]
  },
  {
   "cell_type": "code",
   "execution_count": 2,
   "id": "00816b76",
   "metadata": {},
   "outputs": [
    {
     "name": "stderr",
     "output_type": "stream",
     "text": [
      "[Stage 1:===================>                                       (1 + 2) / 3]\r"
     ]
    },
    {
     "name": "stdout",
     "output_type": "stream",
     "text": [
      "Nr lines. Eng:  1862234  Swe:  1862234\n",
      "Nr partitions. Eng:  2 Swe:  3\n"
     ]
    },
    {
     "name": "stderr",
     "output_type": "stream",
     "text": [
      "                                                                                \r"
     ]
    }
   ],
   "source": [
    "# A1, Read data and print nr lines and nr partitions\n",
    "rdd_en = sc.textFile(\"hdfs://host-192-168-2-122:9000/europarl/europarl-v7.sv-en.en\")\n",
    "rdd_sv = sc.textFile(\"hdfs://host-192-168-2-122:9000/europarl/europarl-v7.sv-en.sv\")\n",
    "\n",
    "nrLinesEng = rdd_en.count()\n",
    "nrPartEng = rdd_en.getNumPartitions()\n",
    "nrLinesSwe = rdd_sv.count()\n",
    "nrPartSwe = rdd_sv.getNumPartitions()\n",
    "\n",
    "print(\"Nr lines. Eng: \", nrLinesEng, \" Swe: \", nrLinesSwe)\n",
    "print(\"Nr partitions. Eng: \", nrPartEng, \"Swe: \", nrPartSwe)\n",
    "\n"
   ]
  },
  {
   "cell_type": "code",
   "execution_count": 3,
   "id": "82876d53",
   "metadata": {},
   "outputs": [
    {
     "name": "stderr",
     "output_type": "stream",
     "text": [
      "[Stage 5:===================>                                       (1 + 2) / 3]\r"
     ]
    },
    {
     "name": "stdout",
     "output_type": "stream",
     "text": [
      "First 10 sentences:\n",
      "[['resumption', 'of', 'the', 'session'], ['i', 'declare', 'resumed', 'the', 'session', 'of', 'the', 'european', 'parliament', 'adjourned', 'on', 'friday', '17', 'december', '1999,', 'and', 'i', 'would', 'like', 'once', 'again', 'to', 'wish', 'you', 'a', 'happy', 'new', 'year', 'in', 'the', 'hope', 'that', 'you', 'enjoyed', 'a', 'pleasant', 'festive', 'period.'], ['although,', 'as', 'you', 'will', 'have', 'seen,', 'the', 'dreaded', \"'millennium\", \"bug'\", 'failed', 'to', 'materialise,', 'still', 'the', 'people', 'in', 'a', 'number', 'of', 'countries', 'suffered', 'a', 'series', 'of', 'natural', 'disasters', 'that', 'truly', 'were', 'dreadful.'], ['you', 'have', 'requested', 'a', 'debate', 'on', 'this', 'subject', 'in', 'the', 'course', 'of', 'the', 'next', 'few', 'days,', 'during', 'this', 'part-session.'], ['in', 'the', 'meantime,', 'i', 'should', 'like', 'to', 'observe', 'a', \"minute'\", 's', 'silence,', 'as', 'a', 'number', 'of', 'members', 'have', 'requested,', 'on', 'behalf', 'of', 'all', 'the', 'victims', 'concerned,', 'particularly', 'those', 'of', 'the', 'terrible', 'storms,', 'in', 'the', 'various', 'countries', 'of', 'the', 'european', 'union.'], ['please', 'rise,', 'then,', 'for', 'this', \"minute'\", 's', 'silence.'], ['(the', 'house', 'rose', 'and', 'observed', 'a', \"minute'\", 's', 'silence)'], ['madam', 'president,', 'on', 'a', 'point', 'of', 'order.'], ['you', 'will', 'be', 'aware', 'from', 'the', 'press', 'and', 'television', 'that', 'there', 'have', 'been', 'a', 'number', 'of', 'bomb', 'explosions', 'and', 'killings', 'in', 'sri', 'lanka.'], ['one', 'of', 'the', 'people', 'assassinated', 'very', 'recently', 'in', 'sri', 'lanka', 'was', 'mr', 'kumar', 'ponnambalam,', 'who', 'had', 'visited', 'the', 'european', 'parliament', 'just', 'a', 'few', 'months', 'ago.']]\n",
      "[['återupptagande', 'av', 'sessionen'], ['jag', 'förklarar', 'europaparlamentets', 'session', 'återupptagen', 'efter', 'avbrottet', 'den', '17', 'december.', 'jag', 'vill', 'på', 'nytt', 'önska', 'er', 'ett', 'gott', 'nytt', 'år', 'och', 'jag', 'hoppas', 'att', 'ni', 'haft', 'en', 'trevlig', 'semester.'], ['som', 'ni', 'kunnat', 'konstatera', 'ägde', '\"den', 'stora', 'år', '2000-buggen\"', 'aldrig', 'rum.', 'däremot', 'har', 'invånarna', 'i', 'ett', 'antal', 'av', 'våra', 'medlemsländer', 'drabbats', 'av', 'naturkatastrofer', 'som', 'verkligen', 'varit', 'förskräckliga.'], ['ni', 'har', 'begärt', 'en', 'debatt', 'i', 'ämnet', 'under', 'sammanträdesperiodens', 'kommande', 'dagar.'], ['till', 'dess', 'vill', 'jag', 'att', 'vi,', 'som', 'ett', 'antal', 'kolleger', 'begärt,', 'håller', 'en', 'tyst', 'minut', 'för', 'offren', 'för', 'bl.a.', 'stormarna', 'i', 'de', 'länder', 'i', 'europeiska', 'unionen', 'som', 'drabbats.'], ['jag', 'ber', 'er', 'resa', 'er', 'för', 'en', 'tyst', 'minut.'], ['(parlamentet', 'höll', 'en', 'tyst', 'minut.)'], ['fru', 'talman!', 'det', 'gäller', 'en', 'ordningsfråga.'], ['ni', 'känner', 'till', 'från', 'media', 'att', 'det', 'skett', 'en', 'rad', 'bombexplosioner', 'och', 'mord', 'i', 'sri', 'lanka.'], ['en', 'av', 'de', 'personer', 'som', 'mycket', 'nyligen', 'mördades', 'i', 'sri', 'lanka', 'var', 'kumar', 'ponnambalam,', 'som', 'besökte', 'europaparlamentet', 'för', 'bara', 'några', 'månader', 'sedan.']]\n",
      "Nr lines: \n",
      "1862234\n",
      "1862234\n"
     ]
    },
    {
     "name": "stderr",
     "output_type": "stream",
     "text": [
      "                                                                                \r"
     ]
    }
   ],
   "source": [
    "# A2, preprocess data, lower and split \n",
    "rdd_en_2 = rdd_en.map(lambda x: x.lower().split()) \n",
    "rdd_sv_2 = rdd_sv.map(lambda x: x.lower().split())\n",
    "\n",
    "out1 = rdd_en_2.take(10)\n",
    "out2 = rdd_sv_2.take(10)\n",
    "lc1 = rdd_en_2.count()\n",
    "lc2 = rdd_sv_2.count()\n",
    "\n",
    "print(\"First 10 sentences:\")\n",
    "print(out1)\n",
    "print(out2)\n",
    "print(\"Nr lines: \")\n",
    "print(lc1)\n",
    "print(lc2)"
   ]
  },
  {
   "cell_type": "code",
   "execution_count": 4,
   "id": "afdc1b12",
   "metadata": {},
   "outputs": [
    {
     "name": "stderr",
     "output_type": "stream",
     "text": [
      "[Stage 18:>                                                         (0 + 3) / 3]\r"
     ]
    },
    {
     "name": "stdout",
     "output_type": "stream",
     "text": [
      "Most frequently ocuring words: \n",
      "Eng:\n",
      "('the', 3498574)\n",
      "('of', 1659884)\n",
      "('to', 1539823)\n",
      "('and', 1288620)\n",
      "('in', 1086089)\n",
      "('that', 797576)\n",
      "('a', 773812)\n",
      "('is', 758087)\n",
      "('for', 534270)\n",
      "('we', 522879)\n",
      "Swe:\n",
      "('att', 1706309)\n",
      "('och', 1344895)\n",
      "('i', 1050989)\n",
      "('det', 924878)\n",
      "('som', 913302)\n",
      "('för', 908703)\n",
      "('av', 738102)\n",
      "('är', 694389)\n",
      "('en', 620347)\n",
      "('vi', 539808)\n"
     ]
    },
    {
     "name": "stderr",
     "output_type": "stream",
     "text": [
      "                                                                                \r"
     ]
    }
   ],
   "source": [
    "# A3, count most frequent words\n",
    "\n",
    "# turn into keyvalue pairs and reduce (sum them up)\n",
    "from operator import add\n",
    "\n",
    "rdd_en_3 = rdd_en_2.flatMap(lambda x: x).map(lambda x: (x,1))\n",
    "rdd_sv_3 = rdd_sv_2.flatMap(lambda x: x).map(lambda x: (x,1))\n",
    "\n",
    "rdd_en_4 = rdd_en_3.reduceByKey(add)\n",
    "rdd_en_5 = rdd_en_4.sortBy(lambda x: x[1], False).take(10)\n",
    "\n",
    "rdd_sv_4 = rdd_sv_3.reduceByKey(add).sortBy(lambda x: x[1], False).take(10) # False added for reverse order\n",
    "\n",
    "print(\"Most frequently ocuring words: \")\n",
    "print(\"Eng:\")\n",
    "for kv in rdd_en_5:\n",
    "    print(kv)\n",
    "print(\"Swe:\")\n",
    "for kv in rdd_sv_4:\n",
    "    print(kv)\n",
    "\n",
    "# Seems reasonble i guess? Makes sense that \"the\" is the most frequent word. "
   ]
  },
  {
   "cell_type": "code",
   "execution_count": 8,
   "id": "06a050b6",
   "metadata": {
    "scrolled": true
   },
   "outputs": [
    {
     "name": "stderr",
     "output_type": "stream",
     "text": [
      "                                                                                \r"
     ]
    },
    {
     "name": "stdout",
     "output_type": "stream",
     "text": [
      "[(('is', 'är'), 4718), (('closed.', 'avslutad.'), 2971), (('(applause)', '(applåder)'), 2546), (('.', '.'), 2107), (('that', 'det'), 1495), (('we', 'vi'), 1443), (('the', 'jag'), 1336), (('is', 'debatten'), 1327), (('debate', 'förklarar'), 1319), (('the', 'debatten'), 1253)]\n"
     ]
    }
   ],
   "source": [
    "# A4\n",
    "# Zip sentences with row index\n",
    "a4_en1 = rdd_en_2.zipWithIndex().map(lambda x: (x[1], x[0]))\n",
    "a4_sv1 = rdd_sv_2.zipWithIndex().map(lambda x: (x[1], x[0]))\n",
    "\n",
    "# Inner join on sentences, then several filters \n",
    "combined = a4_en1.join(a4_sv1).map(lambda x: x[1])\n",
    "c2 = combined.filter(lambda x: x[0] is not None and x[1] is not None)\n",
    "c3 = c2.filter(lambda x: len(x[0]) == len(x[1]))\n",
    "c4 = c3.filter(lambda x: len(x[0]) <= 5)\n",
    "c5 = c4.flatMap(lambda x: zip(x[0], x[1])) # Pair the words in each sentence\n",
    "c6 = c5.map(lambda x: (x, 1)).reduceByKey(add).sortBy(lambda x: x[1], False) # Add index and count occurences\n",
    "\n",
    "print(c6.take(10))\n",
    "\n",
    "# Translations are more accurate than i thought! Looks good.\n"
   ]
  },
  {
   "cell_type": "code",
   "execution_count": null,
   "id": "0957653d",
   "metadata": {},
   "outputs": [],
   "source": [
    "spark_session.stop()"
   ]
  }
 ],
 "metadata": {
  "kernelspec": {
   "display_name": "Python 3 (ipykernel)",
   "language": "python",
   "name": "python3"
  },
  "language_info": {
   "codemirror_mode": {
    "name": "ipython",
    "version": 3
   },
   "file_extension": ".py",
   "mimetype": "text/x-python",
   "name": "python",
   "nbconvert_exporter": "python",
   "pygments_lexer": "ipython3",
   "version": "3.10.6"
  }
 },
 "nbformat": 4,
 "nbformat_minor": 5
}
